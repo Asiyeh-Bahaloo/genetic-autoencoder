{
 "cells": [
  {
   "cell_type": "code",
   "execution_count": 2,
   "metadata": {
    "executionInfo": {
     "elapsed": 573,
     "status": "ok",
     "timestamp": 1668865060141,
     "user": {
      "displayName": "Ghasedak Mohajer",
      "userId": "00662349856745641641"
     },
     "user_tz": -210
    },
    "id": "KGeEWGAWsevK"
   },
   "outputs": [],
   "source": [
    "import torch\n",
    "import torchvision.datasets as datasets\n",
    "import torch.nn as nn\n",
    "import torchvision.transforms as transforms\n",
    "\n",
    "import torch.nn.functional as F\n",
    "import numpy as np\n",
    "import torch.optim as optim\n",
    "\n",
    "import matplotlib.pyplot as plt\n",
    "%matplotlib inline"
   ]
  },
  {
   "cell_type": "code",
   "execution_count": null,
   "metadata": {
    "id": "UuVQUa8OsiFO"
   },
   "outputs": [],
   "source": [
    "INPUT_SHAPE = (784,)\n",
    "pop_size = 10\n",
    "generations = 5\n",
    "# l = [784, 500, 250, 100, 50]\n",
    "# l = [784, 500]\n",
    "# init = glorot_uniform(seed = 12)\n",
    "epochs_FineTune = 3"
   ]
  },
  {
   "cell_type": "code",
   "execution_count": 3,
   "metadata": {
    "executionInfo": {
     "elapsed": 4,
     "status": "ok",
     "timestamp": 1668867745036,
     "user": {
      "displayName": "Ghasedak Mohajer",
      "userId": "00662349856745641641"
     },
     "user_tz": -210
    },
    "id": "WVEUixlktiUC"
   },
   "outputs": [],
   "source": [
    "transform = transforms.Compose([\n",
    "    transforms.ToTensor()\n",
    "])\n",
    "batch_size = 32\n",
    "lr = 0.01\n",
    "device = torch.device(\"cpu\")\n",
    "data_path = \"../data\""
   ]
  },
  {
   "cell_type": "code",
   "execution_count": 4,
   "metadata": {
    "executionInfo": {
     "elapsed": 487,
     "status": "ok",
     "timestamp": 1668865196275,
     "user": {
      "displayName": "Ghasedak Mohajer",
      "userId": "00662349856745641641"
     },
     "user_tz": -210
    },
    "id": "AklGCw70smaN"
   },
   "outputs": [],
   "source": [
    "train_dataset = datasets.MNIST(root=data_path, train= True, download=True, transform=transform)\n",
    "test_dataset = datasets.MNIST(root=data_path, train= False, download=True, transform=transform)\n",
    "train_loader = torch.utils.data.DataLoader(\n",
    "    train_dataset,\n",
    "    batch_size=batch_size, shuffle=True)\n",
    "test_loader = torch.utils.data.DataLoader(\n",
    "    test_dataset,\n",
    "    batch_size=batch_size, shuffle=True)"
   ]
  },
  {
   "cell_type": "code",
   "execution_count": 5,
   "metadata": {
    "colab": {
     "base_uri": "https://localhost:8080/",
     "height": 300
    },
    "executionInfo": {
     "elapsed": 620,
     "status": "ok",
     "timestamp": 1668865445613,
     "user": {
      "displayName": "Ghasedak Mohajer",
      "userId": "00662349856745641641"
     },
     "user_tz": -210
    },
    "id": "esUtJpU9smeM",
    "outputId": "a1f365f7-9384-4376-f697-a14aece1cd8d"
   },
   "outputs": [
    {
     "name": "stdout",
     "output_type": "stream",
     "text": [
      "5\n"
     ]
    },
    {
     "data": {
      "text/plain": [
       "60000"
      ]
     },
     "execution_count": 5,
     "metadata": {},
     "output_type": "execute_result"
    },
    {
     "data": {
      "image/png": "[encoded data removed]",
      "text/plain": [
       "<Figure size 432x288 with 1 Axes>"
      ]
     },
     "metadata": {
      "needs_background": "light"
     },
     "output_type": "display_data"
    }
   ],
   "source": [
    "plt.imshow(  train_dataset[0][0].squeeze()  )\n",
    "print(train_dataset[0][1])\n",
    "len(train_dataset)"
   ]
  },
  {
   "cell_type": "code",
   "execution_count": null,
   "metadata": {
    "colab": {
     "base_uri": "https://localhost:8080/",
     "height": 44
    },
    "executionInfo": {
     "elapsed": 7,
     "status": "ok",
     "timestamp": 1668422945534,
     "user": {
      "displayName": "Ghasedak Mohajer",
      "userId": "00662349856745641641"
     },
     "user_tz": -210
    },
    "id": "jaQA2BWnvwkw",
    "outputId": "793d58cb-95cf-4a01-98ee-bb72c4c9e755"
   },
   "outputs": [
    {
     "data": {
      "image/png": "[encoded data removed]",
      "text/plain": [
       "<PIL.Image.Image image mode=L size=28x28 at 0x7F350DB636D0>"
      ]
     },
     "metadata": {},
     "output_type": "display_data"
    }
   ],
   "source": [
    "class GeneticAutoEncoder(nn.Module):\n",
    "    def __init__(self, layers_size, nonlinearity=torch.tanh):\n",
    "        super(GeneticAutoEncoder, self).__init__()\n",
    "        self.layers_size = layers_size\n",
    "        self.activation_fn = nonlinearity\n",
    "        # check layer size\n",
    "        self.input_kernel = nn.Linear(in_features=self.layers_size[0], out_features=self.layers_size[1], bias=False)\n",
    "        self.train_layer = self.input_kernel \n",
    "\n",
    "        self.reset_parameters()\n",
    "\n",
    "    def reset_parameters(self):\n",
    "        nn.init.xavier_uniform_(self.train_layer.weight.data)\n",
    "\n",
    "    def default_hidden(self, input):\n",
    "        return input.new_zeros(input.size(0), self.hidden_size, requires_grad=False)\n",
    "\n",
    "    def forward(self, input, hidden):\n",
    "        input = self.input_kernel(input)\n",
    "        hidden = self.recurrent_kernel(hidden)\n",
    "        out = input + hidden\n",
    "        out = self.nonlinearity(out)\n",
    "\n",
    "        return out, out"
   ]
  },
  {
   "cell_type": "code",
   "execution_count": 76,
   "metadata": {
    "executionInfo": {
     "elapsed": 3,
     "status": "ok",
     "timestamp": 1668866606645,
     "user": {
      "displayName": "Ghasedak Mohajer",
      "userId": "00662349856745641641"
     },
     "user_tz": -210
    },
    "id": "KwU9TzbxQ4Rn"
   },
   "outputs": [],
   "source": [
    "class TiedLinearLayer(nn.Module):\n",
    "    def __init__(self, inp, out):\n",
    "        super().__init__()\n",
    "        self.param = nn.Parameter(torch.zeros(out, inp))\n",
    "        self.reset_parameters()\n",
    "    \n",
    "    def reset_parameters(self):\n",
    "        nn.init.xavier_uniform_(self.param)\n",
    "\n",
    "    def forward(self, input, transpose):\n",
    "        if transpose is False:\n",
    "            output = F.linear(input, self.param)\n",
    "        else:\n",
    "            output = F.linear(input, self.param.t())\n",
    "        return output\n",
    "    \n",
    "class SingleTiedAutoEncoder(nn.Module):\n",
    "    def __init__(self, inp, out):\n",
    "        super().__init__()\n",
    "        self.layers = TiedLinearLayer(inp,out)\n",
    "\n",
    "    def forward(self, input):\n",
    "        x = torch.flatten(input, start_dim=1) \n",
    "        x = self.layers(x, transpose = False) \n",
    "        x = self.layers(x, transpose = True)\n",
    "        return x\n",
    "    \n",
    "class TiedAutoEncoder(nn.Module):\n",
    "    def __init__(self, shape_list, nonlinearity=torch.relu):\n",
    "        super().__init__()\n",
    "        self.layers = nn.ModuleList([])\n",
    "        self.nonlinearity = nonlinearity\n",
    "            \n",
    "        for i in range(len(shape_list)-1):\n",
    "            self.layers.append(TiedLinearLayer(shape_list[i],shape_list[i+1]))\n",
    "\n",
    "    def forward(self, input):\n",
    "        x = torch.flatten(input, start_dim=1) \n",
    "        #encode\n",
    "        for layer in self.layers:\n",
    "            x = layer(x, transpose = False)\n",
    "            x = self.nonlinearity(x)\n",
    "        encoded_feats = x.detach().clone()\n",
    "        #decode\n",
    "        for i, layer in sorted( enumerate(self.layers), reverse=True ):\n",
    "            x = layer(x, transpose = True)\n",
    "            if i < len(self.layers)-1:\n",
    "                x = self.nonlinearity(x)\n",
    "        reconstructed_output = x\n",
    "        return encoded_feats, reconstructed_output\n",
    "    \n",
    "def train(model, device, train_loader, optimizer, epoch, loss_fn=F.mse_loss):\n",
    "    model.train()\n",
    "    for batch_idx, (data, _) in enumerate(train_loader):\n",
    "        data = data.to(device)\n",
    "        optimizer.zero_grad()\n",
    "        encoded_feats, reconstructed_output  = model(data)\n",
    "#         reconstructed_output  = model(data)\n",
    "        target = torch.flatten(data, start_dim=1)\n",
    "        loss = loss_fn(reconstructed_output, target)\n",
    "        loss.backward()\n",
    "        optimizer.step()\n",
    "        if batch_idx % 1000 == 0:\n",
    "            print('Train Epoch: {} [{}/{} ({:.0f}%)]\\tLoss: {:.6f}'.format(\n",
    "                epoch, batch_idx * len(data), len(train_loader.dataset),\n",
    "                100. * batch_idx / len(train_loader), loss.item()))"
   ]
  },
  {
   "cell_type": "code",
   "execution_count": 77,
   "metadata": {
    "colab": {
     "base_uri": "https://localhost:8080/"
    },
    "executionInfo": {
     "elapsed": 79505,
     "status": "ok",
     "timestamp": 1668869298106,
     "user": {
      "displayName": "Ghasedak Mohajer",
      "userId": "00662349856745641641"
     },
     "user_tz": -210
    },
    "id": "aSjxW2fLQIpw",
    "outputId": "a35b6a20-b647-4295-cc1c-1705098d93fe"
   },
   "outputs": [
    {
     "name": "stdout",
     "output_type": "stream",
     "text": [
      "Train Epoch: 1 [0/60000 (0%)]\tLoss: 0.091265\n",
      "Train Epoch: 1 [32000/60000 (53%)]\tLoss: 0.057164\n",
      "Train Epoch: 2 [0/60000 (0%)]\tLoss: 0.049032\n",
      "Train Epoch: 2 [32000/60000 (53%)]\tLoss: 0.042027\n",
      "Train Epoch: 3 [0/60000 (0%)]\tLoss: 0.040352\n",
      "Train Epoch: 3 [32000/60000 (53%)]\tLoss: 0.040841\n",
      "Train Epoch: 4 [0/60000 (0%)]\tLoss: 0.039814\n",
      "Train Epoch: 4 [32000/60000 (53%)]\tLoss: 0.039392\n"
     ]
    }
   ],
   "source": [
    "model = TiedAutoEncoder(shape_list = [784, 500, 250, 100, 50], nonlinearity =torch.relu)\n",
    "model = TiedAutoEncoder(shape_list = [784, 500], nonlinearity =torch.relu)\n",
    "# model = SingleTiedAutoEncoder(784,500)\n",
    "optimizer = optim.Adadelta(model.parameters(), lr=lr)\n",
    "mae_loss = nn.L1Loss()\n",
    "# scheduler = StepLR(optimizer, step_size=1, gamma=args.gamma)\n",
    "for epoch in range(1, 5):\n",
    "    train(model, device, train_loader, optimizer, epoch, loss_fn = F.mse_loss)\n",
    "    # test(model, device, test_loader)\n",
    "    # scheduler.step()\n",
    "\n",
    "# if args.save_model:\n",
    "    # torch.save(model.state_dict(), \"mnist_cnn.pt\")"
   ]
  },
  {
   "cell_type": "code",
   "execution_count": 80,
   "metadata": {
    "colab": {
     "base_uri": "https://localhost:8080/",
     "height": 513
    },
    "executionInfo": {
     "elapsed": 1179,
     "status": "ok",
     "timestamp": 1668869734087,
     "user": {
      "displayName": "Ghasedak Mohajer",
      "userId": "00662349856745641641"
     },
     "user_tz": -210
    },
    "id": "aw82dI0sM-xE",
    "outputId": "0f80f5c6-9471-4f65-cbcd-afd971d2706c"
   },
   "outputs": [
    {
     "data": {
      "image/png": "[encoded data removed]",
      "text/plain": [
       "<Figure size 432x288 with 1 Axes>"
      ]
     },
     "metadata": {
      "needs_background": "light"
     },
     "output_type": "display_data"
    },
    {
     "data": {
      "image/png": "[encoded data removed]",
      "text/plain": [
       "<Figure size 432x288 with 1 Axes>"
      ]
     },
     "metadata": {
      "needs_background": "light"
     },
     "output_type": "display_data"
    }
   ],
   "source": [
    "data_sample = train_dataset[1][0]\n",
    "plt.imshow(data_sample.squeeze())\n",
    "plt.show()\n",
    "encoded_feats, reconstructed_output = model(data_sample)\n",
    "# reconstructed_output = model(data_sample)\n",
    "plt.imshow(reconstructed_output.detach().numpy().reshape(28,28) )\n",
    "plt.show()"
   ]
  },
  {
   "cell_type": "code",
   "execution_count": 63,
   "metadata": {},
   "outputs": [
    {
     "data": {
      "text/plain": [
       "5"
      ]
     },
     "execution_count": 63,
     "metadata": {},
     "output_type": "execute_result"
    }
   ],
   "source": [
    "len(l)"
   ]
  },
  {
   "cell_type": "code",
   "execution_count": null,
   "metadata": {},
   "outputs": [],
   "source": []
  }
 ],
 "metadata": {
  "colab": {
   "authorship_tag": "ABX9TyO5sJXR6lRTwdohVK8osUWX",
   "provenance": []
  },
  "kernelspec": {
   "display_name": "Python 3",
   "language": "python",
   "name": "python3"
  },
  "language_info": {
   "codemirror_mode": {
    "name": "ipython",
    "version": 3
   },
   "file_extension": ".py",
   "mimetype": "text/x-python",
   "name": "python",
   "nbconvert_exporter": "python",
   "pygments_lexer": "ipython3",
   "version": "3.6.9"
  }
 },
 "nbformat": 4,
 "nbformat_minor": 1
}
