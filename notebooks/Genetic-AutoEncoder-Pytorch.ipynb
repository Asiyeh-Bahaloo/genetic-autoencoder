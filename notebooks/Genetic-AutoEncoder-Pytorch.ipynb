{
 "cells": [
  {
   "cell_type": "code",
   "execution_count": 1,
   "metadata": {
    "executionInfo": {
     "elapsed": 573,
     "status": "ok",
     "timestamp": 1668865060141,
     "user": {
      "displayName": "Ghasedak Mohajer",
      "userId": "00662349856745641641"
     },
     "user_tz": -210
    },
    "id": "KGeEWGAWsevK"
   },
   "outputs": [],
   "source": [
    "import torch\n",
    "import torchvision.datasets as datasets\n",
    "import torch.nn as nn\n",
    "import torchvision.transforms as transforms\n",
    "\n",
    "import torch.nn.functional as F\n",
    "import numpy as np\n",
    "import torch.optim as optim\n",
    "\n",
    "import matplotlib.pyplot as plt\n",
    "%matplotlib inline"
   ]
  },
  {
   "cell_type": "code",
   "execution_count": null,
   "metadata": {
    "id": "UuVQUa8OsiFO"
   },
   "outputs": [],
   "source": [
    "INPUT_SHAPE = (784,)\n",
    "pop_size = 10\n",
    "generations = 5\n",
    "# l = [784, 500, 250, 100, 50]\n",
    "# l = [784, 500]\n",
    "# init = glorot_uniform(seed = 12)\n",
    "epochs_FineTune = 3"
   ]
  },
  {
   "cell_type": "code",
   "execution_count": 2,
   "metadata": {
    "executionInfo": {
     "elapsed": 4,
     "status": "ok",
     "timestamp": 1668867745036,
     "user": {
      "displayName": "Ghasedak Mohajer",
      "userId": "00662349856745641641"
     },
     "user_tz": -210
    },
    "id": "WVEUixlktiUC"
   },
   "outputs": [],
   "source": [
    "transform = transforms.Compose([\n",
    "    transforms.ToTensor()\n",
    "])\n",
    "batch_size = 32\n",
    "device = torch.device(\"cpu\")\n",
    "data_path = \"../data\""
   ]
  },
  {
   "cell_type": "code",
   "execution_count": 3,
   "metadata": {
    "executionInfo": {
     "elapsed": 487,
     "status": "ok",
     "timestamp": 1668865196275,
     "user": {
      "displayName": "Ghasedak Mohajer",
      "userId": "00662349856745641641"
     },
     "user_tz": -210
    },
    "id": "AklGCw70smaN"
   },
   "outputs": [],
   "source": [
    "train_dataset = datasets.MNIST(root=data_path, train= True, download=True, transform=transform)\n",
    "test_dataset = datasets.MNIST(root=data_path, train= False, download=True, transform=transform)\n",
    "train_loader = torch.utils.data.DataLoader(\n",
    "    train_dataset,\n",
    "    batch_size=batch_size, shuffle=True)\n",
    "test_loader = torch.utils.data.DataLoader(\n",
    "    test_dataset,\n",
    "    batch_size=batch_size, shuffle=True)"
   ]
  },
  {
   "cell_type": "code",
   "execution_count": 4,
   "metadata": {
    "colab": {
     "base_uri": "https://localhost:8080/",
     "height": 300
    },
    "executionInfo": {
     "elapsed": 620,
     "status": "ok",
     "timestamp": 1668865445613,
     "user": {
      "displayName": "Ghasedak Mohajer",
      "userId": "00662349856745641641"
     },
     "user_tz": -210
    },
    "id": "esUtJpU9smeM",
    "outputId": "a1f365f7-9384-4376-f697-a14aece1cd8d"
   },
   "outputs": [
    {
     "name": "stdout",
     "output_type": "stream",
     "text": [
      "5\n"
     ]
    },
    {
     "data": {
      "text/plain": [
       "60000"
      ]
     },
     "execution_count": 4,
     "metadata": {},
     "output_type": "execute_result"
    },
    {
     "data": {
      "image/png": "[encoded data removed]",
      "text/plain": [
       "<Figure size 432x288 with 1 Axes>"
      ]
     },
     "metadata": {
      "needs_background": "light"
     },
     "output_type": "display_data"
    }
   ],
   "source": [
    "plt.imshow(  train_dataset[0][0].squeeze()  )\n",
    "print(train_dataset[0][1])\n",
    "len(train_dataset)"
   ]
  },
  {
   "cell_type": "code",
   "execution_count": 5,
   "metadata": {
    "executionInfo": {
     "elapsed": 3,
     "status": "ok",
     "timestamp": 1668866606645,
     "user": {
      "displayName": "Ghasedak Mohajer",
      "userId": "00662349856745641641"
     },
     "user_tz": -210
    },
    "id": "KwU9TzbxQ4Rn"
   },
   "outputs": [],
   "source": [
    "class TiedLinearLayer(nn.Module):\n",
    "    def __init__(self, inp, out):\n",
    "        super().__init__()\n",
    "        self.param = nn.Parameter(torch.zeros(out, inp))\n",
    "        self.reset_parameters()\n",
    "    \n",
    "    def reset_parameters(self):\n",
    "        nn.init.xavier_uniform_(self.param)\n",
    "\n",
    "    def forward(self, input, transpose):\n",
    "        if transpose is False:\n",
    "            output = F.linear(input, self.param)\n",
    "        else:\n",
    "            output = F.linear(input, self.param.t())\n",
    "        return output\n",
    "    \n",
    "class SingleTiedAutoEncoder(nn.Module):\n",
    "    def __init__(self, inp, out):\n",
    "        super().__init__()\n",
    "        self.layers = TiedLinearLayer(inp,out)\n",
    "\n",
    "    def forward(self, input):\n",
    "        x = torch.flatten(input, start_dim=1) \n",
    "        x = self.layers(x, transpose = False) \n",
    "        x = self.layers(x, transpose = True)\n",
    "        return x\n",
    "    \n",
    "class TiedAutoEncoder(nn.Module):\n",
    "    def __init__(self, shape_list, nonlinearity=torch.relu):\n",
    "        super().__init__()\n",
    "        self.layers = nn.ModuleList([])\n",
    "        self.nonlinearity = nonlinearity\n",
    "        self.shape_list = shape_list   \n",
    "        for i in range(len(self.shape_list)-1):\n",
    "            self.layers.append(TiedLinearLayer(self.shape_list[i],self.shape_list[i+1]))\n",
    "\n",
    "    def forward(self, input):\n",
    "        x = torch.flatten(input, start_dim=1) \n",
    "        #encode\n",
    "        for layer in self.layers:\n",
    "            x = layer(x, transpose = False)\n",
    "            x = self.nonlinearity(x)\n",
    "        encoded_feats = x.detach().clone()\n",
    "        #decode\n",
    "        for i, layer in sorted( enumerate(self.layers), reverse=True ):\n",
    "            x = layer(x, transpose = True)\n",
    "            if i !=0: #if it's not the last layer\n",
    "                x = self.nonlinearity(x)\n",
    "        reconstructed_output = x\n",
    "        return encoded_feats, reconstructed_output\n",
    "    \n",
    "def train(model, device, train_loader, optimizer, epoch, loss_fn=F.mse_loss):\n",
    "    model.train()\n",
    "    for batch_idx, (data, _) in enumerate(train_loader):\n",
    "        data = data.to(device)\n",
    "        optimizer.zero_grad()\n",
    "        encoded_feats, reconstructed_output  = model(data)\n",
    "        target = torch.flatten(data, start_dim=1)\n",
    "        loss = loss_fn(reconstructed_output, target)\n",
    "        loss.backward()\n",
    "        optimizer.step()\n",
    "        if batch_idx % 1000 == 0:\n",
    "            print('Train Epoch: {} [{}/{} ({:.0f}%)]\\tLoss: {:.6f}'.format(\n",
    "                epoch, batch_idx * len(data), len(train_loader.dataset),\n",
    "                100. * batch_idx / len(train_loader), loss.item()))\n",
    "            \n",
    "@torch.no_grad()\n",
    "def evaluate_loss(model, data_loader, device):\n",
    "    val_loss = 0\n",
    "    for data, _ in data_loader:\n",
    "        data = data.to(device)\n",
    "        _ , reconstructed_output  = model(data)\n",
    "        target = torch.flatten(data, start_dim=1)\n",
    "        loss = F.mse_loss(reconstructed_output, target)\n",
    "        val_loss += loss\n",
    "\n",
    "    validation_loss = val_loss/ len(data_loader)    \n",
    "    return validation_loss\n",
    "\n",
    "def layer_wise_train(model, device, train_loader, lr, epoch, loss_fn=F.mse_loss): \n",
    "#     shape_list = [784, 500, 250, 100, 50]\n",
    "    shape_list = model.shape_list\n",
    "    current_shape_list = []\n",
    "    weight_state_dict = {}\n",
    "\n",
    "    for layer_shape in shape_list:\n",
    "        current_shape_list.append(layer_shape)\n",
    "        if len(current_shape_list) < 2:\n",
    "            continue  \n",
    "        model = TiedAutoEncoder(current_shape_list, nonlinearity =torch.relu)\n",
    "        print(\"training .... \\n\", model)\n",
    "        #load prev weights \n",
    "        model.load_state_dict(weight_state_dict, strict=False)\n",
    "\n",
    "        #freeze network except last layer\n",
    "        for param in list(model.parameters())[:-1]:\n",
    "            param.requires_grad = False\n",
    "        #train the model\n",
    "        optimizer = optim.Adadelta(model.parameters(), lr=lr)\n",
    "        for epoch in range(1, epoch+1):\n",
    "            train(model, device, train_loader, optimizer, epoch, loss_fn)\n",
    "        #update weights\n",
    "        weight_state_dict = model.state_dict()\n",
    "        \n"
   ]
  },
  {
   "cell_type": "code",
   "execution_count": 54,
   "metadata": {
    "colab": {
     "base_uri": "https://localhost:8080/"
    },
    "executionInfo": {
     "elapsed": 79505,
     "status": "ok",
     "timestamp": 1668869298106,
     "user": {
      "displayName": "Ghasedak Mohajer",
      "userId": "00662349856745641641"
     },
     "user_tz": -210
    },
    "id": "aSjxW2fLQIpw",
    "outputId": "a35b6a20-b647-4295-cc1c-1705098d93fe"
   },
   "outputs": [
    {
     "name": "stdout",
     "output_type": "stream",
     "text": [
      "Train Epoch: 1 [0/60000 (0%)]\tLoss: 0.095326\n",
      "Train Epoch: 1 [32000/60000 (53%)]\tLoss: 0.058892\n",
      "Train Epoch: 2 [0/60000 (0%)]\tLoss: 0.052115\n",
      "Train Epoch: 2 [32000/60000 (53%)]\tLoss: 0.042417\n",
      "Train Epoch: 3 [0/60000 (0%)]\tLoss: 0.040422\n",
      "Train Epoch: 3 [32000/60000 (53%)]\tLoss: 0.037493\n",
      "Train Epoch: 4 [0/60000 (0%)]\tLoss: 0.038556\n",
      "Train Epoch: 4 [32000/60000 (53%)]\tLoss: 0.038791\n"
     ]
    }
   ],
   "source": [
    "#simple training\n",
    "model = TiedAutoEncoder(shape_list = [784, 500, 250, 100, 50], nonlinearity =torch.relu)\n",
    "model = TiedAutoEncoder(shape_list = [784, 500], nonlinearity =torch.relu)\n",
    "optimizer = optim.Adadelta(model.parameters(), lr=lr)\n",
    "for epoch in range(1, 5):\n",
    "    train(model, device, train_loader, optimizer, epoch, loss_fn = F.mse_loss)"
   ]
  },
  {
   "cell_type": "code",
   "execution_count": 101,
   "metadata": {
    "scrolled": true
   },
   "outputs": [
    {
     "name": "stdout",
     "output_type": "stream",
     "text": [
      "training .... \n",
      " TiedAutoEncoder(\n",
      "  (layers): ModuleList(\n",
      "    (0): TiedLinearLayer()\n",
      "  )\n",
      ")\n",
      "Train Epoch: 1 [0/60000 (0%)]\tLoss: 0.096132\n",
      "Train Epoch: 1 [32000/60000 (53%)]\tLoss: 0.045417\n",
      "Train Epoch: 2 [0/60000 (0%)]\tLoss: 0.037139\n",
      "Train Epoch: 2 [32000/60000 (53%)]\tLoss: 0.034012\n",
      "Train Epoch: 3 [0/60000 (0%)]\tLoss: 0.032741\n",
      "Train Epoch: 3 [32000/60000 (53%)]\tLoss: 0.026232\n",
      "Train Epoch: 4 [0/60000 (0%)]\tLoss: 0.025182\n",
      "Train Epoch: 4 [32000/60000 (53%)]\tLoss: 0.020832\n",
      "training .... \n",
      " TiedAutoEncoder(\n",
      "  (layers): ModuleList(\n",
      "    (0): TiedLinearLayer()\n",
      "    (1): TiedLinearLayer()\n",
      "  )\n",
      ")\n",
      "Train Epoch: 1 [0/60000 (0%)]\tLoss: 0.084084\n",
      "Train Epoch: 1 [32000/60000 (53%)]\tLoss: 0.042688\n",
      "Train Epoch: 2 [0/60000 (0%)]\tLoss: 0.033100\n",
      "Train Epoch: 2 [32000/60000 (53%)]\tLoss: 0.031166\n",
      "Train Epoch: 3 [0/60000 (0%)]\tLoss: 0.026675\n",
      "Train Epoch: 3 [32000/60000 (53%)]\tLoss: 0.028338\n",
      "Train Epoch: 4 [0/60000 (0%)]\tLoss: 0.024939\n",
      "Train Epoch: 4 [32000/60000 (53%)]\tLoss: 0.022440\n",
      "training .... \n",
      " TiedAutoEncoder(\n",
      "  (layers): ModuleList(\n",
      "    (0): TiedLinearLayer()\n",
      "    (1): TiedLinearLayer()\n",
      "    (2): TiedLinearLayer()\n",
      "  )\n",
      ")\n",
      "Train Epoch: 1 [0/60000 (0%)]\tLoss: 0.088298\n",
      "Train Epoch: 1 [32000/60000 (53%)]\tLoss: 0.049240\n",
      "Train Epoch: 2 [0/60000 (0%)]\tLoss: 0.047676\n",
      "Train Epoch: 2 [32000/60000 (53%)]\tLoss: 0.041865\n",
      "Train Epoch: 3 [0/60000 (0%)]\tLoss: 0.039108\n",
      "Train Epoch: 3 [32000/60000 (53%)]\tLoss: 0.038623\n",
      "Train Epoch: 4 [0/60000 (0%)]\tLoss: 0.038912\n",
      "Train Epoch: 4 [32000/60000 (53%)]\tLoss: 0.037650\n",
      "training .... \n",
      " TiedAutoEncoder(\n",
      "  (layers): ModuleList(\n",
      "    (0): TiedLinearLayer()\n",
      "    (1): TiedLinearLayer()\n",
      "    (2): TiedLinearLayer()\n",
      "    (3): TiedLinearLayer()\n",
      "  )\n",
      ")\n",
      "Train Epoch: 1 [0/60000 (0%)]\tLoss: 0.072085\n",
      "Train Epoch: 1 [32000/60000 (53%)]\tLoss: 0.056052\n",
      "Train Epoch: 2 [0/60000 (0%)]\tLoss: 0.050296\n",
      "Train Epoch: 2 [32000/60000 (53%)]\tLoss: 0.046758\n",
      "Train Epoch: 3 [0/60000 (0%)]\tLoss: 0.043278\n",
      "Train Epoch: 3 [32000/60000 (53%)]\tLoss: 0.044709\n",
      "Train Epoch: 4 [0/60000 (0%)]\tLoss: 0.040352\n",
      "Train Epoch: 4 [32000/60000 (53%)]\tLoss: 0.043590\n"
     ]
    }
   ],
   "source": [
    "#layer-wise training \n",
    "lr = 0.05\n",
    "shape_list = [784, 500, 250, 100, 50]\n",
    "model = TiedAutoEncoder(shape_list, nonlinearity =torch.relu)\n",
    "layer_wise_train(model, device, train_loader, lr, epoch, loss_fn=F.mse_loss)    \n",
    "torch.save(model.state_dict(), \"./torchlogs/weihts_1.pth\")"
   ]
  },
  {
   "cell_type": "code",
   "execution_count": 39,
   "metadata": {},
   "outputs": [],
   "source": [
    "class GeneticTiedAutoEncoder(TiedAutoEncoder):\n",
    "    def __init__(self, shape_list, nonlinearity=torch.relu):\n",
    "        super().__init__(shape_list, nonlinearity)\n",
    "        \n",
    "    @torch.no_grad()  \n",
    "    def crossover(self, parent, layer_key, p):\n",
    "        parent1 = self.state_dict()[layer_key]\n",
    "        parent2 = parent.state_dict()[layer_key]\n",
    "        assert parent1.shape == parent2.shape , \"shape of parents should match\"\n",
    "\n",
    "        weights_mask = torch.FloatTensor(parent1.shape).uniform_(0, 1) <= p\n",
    "        new_chromosome = parent1 * weights_mask + parent2 * weights_mask.logical_not()\n",
    "        \n",
    "        child = GeneticTiedAutoEncoder(self.shape_list, self.nonlinearity)\n",
    "        child.state_dict()[layer_key] = weights_mask  \n",
    "        return child\n",
    "        \n",
    "    @torch.no_grad()      \n",
    "    def mutation(self, layer_key, p):\n",
    "        chromosome = self.state_dict()[layer_key]\n",
    "        weights_mask = torch.FloatTensor(chromosome.shape).uniform_(0, 1) > p \n",
    "        self.state_dict()[layer_key] = chromosome * weights_mask  \n",
    "        \n",
    "def train_genetic_model(shape_list, pop_size, generations, prev_weights = {}, finetune_epoch=3, finetune_lr=0.01 , loss_fn=F.mse_loss):    \n",
    "    \n",
    "    #Generate choromosomes\n",
    "    print(\"\\nGenerated {0} models with {1} layer size! \".format(pop_size, shape_list))\n",
    "    models = [GeneticTiedAutoEncoder(shape_list, nonlinearity =torch.relu) for i in range(pop_size)]\n",
    "   \n",
    "    #Load prevoius layer weights\n",
    "    print()\n",
    "    if prev_weights != {}:\n",
    "        for model in models:\n",
    "             model.load_state_dict(prev_weights, strict=False)\n",
    "        shapes = []\n",
    "        for key_weight in prev_weights:\n",
    "            shapes.append(prev_weights[key_weight].shape)\n",
    "        print(\"\\nLoaded prevoius layer weights with shape {0}\".format(shapes))\n",
    "    \n",
    "    layer_key = next(reversed(models[0].state_dict())) #last layer key\n",
    "    print(\"\\nTraining {0} with shape of {1} : \".format(layer_key, models[0].state_dict()[layer_key].shape))\n",
    "    \n",
    "    for g in range(generations):     \n",
    "        print(\"\\nGeneration {0}: \\n\".format(g+1))\n",
    "        print(\"Calculating fitness for each chromosome...\")\n",
    "        #fitness\n",
    "        fitness = []\n",
    "        for model in models:\n",
    "            fitness.append( 1/evaluate_loss(model, train_loader, device))\n",
    "\n",
    "        #Select 5 best models (/choromosomes)\n",
    "        fit_arg = np.argsort(fitness) \n",
    "        selected_models = [models[f] for f in fit_arg[:pop_size//2]]\n",
    "        print(\"Selected {0} Top best chromosomes\".format(pop_size//2))\n",
    "        \n",
    "\n",
    "        #finetune selected models\n",
    "        print(\"Finetuning selected models...\\n\")\n",
    "        for model in selected_models:\n",
    "            #freeze network except the chromosome layer\n",
    "            for name, param in model.named_parameters():\n",
    "                if name == layer_key:\n",
    "                    param.requires_grad = True\n",
    "                else:\n",
    "                    param.requires_grad = False\n",
    "\n",
    "            #train the model\n",
    "            optimizer = optim.Adadelta(model.parameters(), lr=finetune_lr)\n",
    "            for epoch in range(1, finetune_epoch+1):\n",
    "                train(model, device, train_loader, optimizer, epoch, loss_fn)\n",
    "            \n",
    "\n",
    "        #cross over and mutation    \n",
    "        print(\"Generate {0} other chromosomes with Cross-Over and Mutation\\n\".format( pop_size//2))\n",
    "        for _ in range(pop_size//2):\n",
    "            mom_idx = np.random.randint(low=0, high=pop_size//2)\n",
    "            dad_idx = np.random.randint(low=0, high=pop_size//2)\n",
    "            child = selected_models[mom_idx].crossover(selected_models[dad_idx],layer_key, p=0.8)\n",
    "            child.mutation(layer_key, p=0.01)\n",
    "            selected_models.append(child)\n",
    "        models = selected_models\n",
    "        \n",
    "    fitness = []    \n",
    "    print(\"Selecting best chromosome as answer...\")\n",
    "    #fitness\n",
    "    for model in models:\n",
    "        fitness.append( 1/evaluate_loss(model, train_loader, device))\n",
    "    fit_arg = np.argsort(fitness) \n",
    "    best_model = models[fit_arg[-1]]\n",
    "    print(\"Finished\")\n",
    "    return best_model\n",
    "    \n",
    "            "
   ]
  },
  {
   "cell_type": "code",
   "execution_count": 46,
   "metadata": {
    "scrolled": false
   },
   "outputs": [
    {
     "name": "stdout",
     "output_type": "stream",
     "text": [
      "\n",
      "Generated 10 models with [784, 500] layer size! \n",
      "\n",
      "\n",
      "Training layers.0.param with shape of torch.Size([500, 784]) : \n",
      "\n",
      "Generation 1: \n",
      "\n",
      "Calculating fitness for each chromosome...\n",
      "Selected 5 Top best chromosomes\n",
      "Finetuning selected models...\n",
      "\n",
      "Generate 5 other chromosomes with Cross-Over and Mutation\n",
      "\n",
      "\n",
      "Generation 2: \n",
      "\n",
      "Calculating fitness for each chromosome...\n",
      "Selected 5 Top best chromosomes\n",
      "Finetuning selected models...\n",
      "\n",
      "Generate 5 other chromosomes with Cross-Over and Mutation\n",
      "\n",
      "Selecting best chromosome as answer...\n"
     ]
    }
   ],
   "source": [
    "shape_list = [784, 500, 200, 100]\n",
    "shape_list = [784, 500]\n",
    "pop_size = 10 \n",
    "generations = 2\n",
    "finetune_epoch = 0\n",
    "finetune_lr = 0.01\n",
    "prev_weights = {}\n",
    "\n",
    "model = train_genetic_model(shape_list, pop_size, generations, prev_weights, finetune_epoch, finetune_lr)"
   ]
  },
  {
   "cell_type": "code",
   "execution_count": 9,
   "metadata": {},
   "outputs": [],
   "source": [
    "def layerwise_genetic_train(shape_list, pop_size, generations, finetune_epoch=3, finetune_lr=0.01 , loss_fn=F.mse_loss):    \n",
    "    current_shape_list = []\n",
    "    weight_state_dict = {}\n",
    "\n",
    "    for layer_shape in shape_list:\n",
    "        current_shape_list.append(layer_shape)\n",
    "        if len(current_shape_list) < 2:\n",
    "            continue  \n",
    "        model = train_genetic_model(current_shape_list, pop_size, generations, weight_state_dict, finetune_epoch, finetune_lr , loss_fn)\n",
    "        weight_state_dict = model.state_dict()\n",
    "    return model\n",
    "    "
   ]
  },
  {
   "cell_type": "code",
   "execution_count": 40,
   "metadata": {},
   "outputs": [
    {
     "name": "stdout",
     "output_type": "stream",
     "text": [
      "\n",
      "Generated 10 models with [784, 20] layer size! \n",
      "\n",
      "\n",
      "Training layers.0.param with shape of torch.Size([20, 784]) : \n",
      "\n",
      "Generation 1: \n",
      "\n",
      "Calculating fitness for each chromosome...\n",
      "Selected 5 Top best chromosomes\n",
      "Finetuning selected models...\n",
      "\n",
      "Generate 5 other chromosomes with Cross-Over and Mutation\n",
      "\n",
      "\n",
      "Generation 2: \n",
      "\n",
      "Calculating fitness for each chromosome...\n",
      "Selected 5 Top best chromosomes\n",
      "Finetuning selected models...\n",
      "\n",
      "Generate 5 other chromosomes with Cross-Over and Mutation\n",
      "\n",
      "Selecting best chromosome as answer...\n",
      "Finished\n",
      "\n",
      "Generated 10 models with [784, 20, 10] layer size! \n",
      "\n",
      "\n",
      "Loaded prevoius layer weights with shape [torch.Size([20, 784])]\n",
      "\n",
      "Training layers.1.param with shape of torch.Size([10, 20]) : \n",
      "\n",
      "Generation 1: \n",
      "\n",
      "Calculating fitness for each chromosome...\n",
      "Selected 5 Top best chromosomes\n",
      "Finetuning selected models...\n",
      "\n",
      "Generate 5 other chromosomes with Cross-Over and Mutation\n",
      "\n",
      "\n",
      "Generation 2: \n",
      "\n",
      "Calculating fitness for each chromosome...\n",
      "Selected 5 Top best chromosomes\n",
      "Finetuning selected models...\n",
      "\n",
      "Generate 5 other chromosomes with Cross-Over and Mutation\n",
      "\n",
      "Selecting best chromosome as answer...\n",
      "Finished\n",
      "\n",
      "Generated 10 models with [784, 20, 10, 5] layer size! \n",
      "\n",
      "\n",
      "Loaded prevoius layer weights with shape [torch.Size([20, 784]), torch.Size([10, 20])]\n",
      "\n",
      "Training layers.2.param with shape of torch.Size([5, 10]) : \n",
      "\n",
      "Generation 1: \n",
      "\n",
      "Calculating fitness for each chromosome...\n",
      "Selected 5 Top best chromosomes\n",
      "Finetuning selected models...\n",
      "\n",
      "Generate 5 other chromosomes with Cross-Over and Mutation\n",
      "\n",
      "\n",
      "Generation 2: \n",
      "\n",
      "Calculating fitness for each chromosome...\n",
      "Selected 5 Top best chromosomes\n",
      "Finetuning selected models...\n",
      "\n",
      "Generate 5 other chromosomes with Cross-Over and Mutation\n",
      "\n",
      "Selecting best chromosome as answer...\n",
      "Finished\n",
      "\n",
      "Generated 10 models with [784, 20, 10, 5, 1] layer size! \n",
      "\n",
      "\n",
      "Loaded prevoius layer weights with shape [torch.Size([20, 784]), torch.Size([10, 20]), torch.Size([5, 10])]\n",
      "\n",
      "Training layers.3.param with shape of torch.Size([1, 5]) : \n",
      "\n",
      "Generation 1: \n",
      "\n",
      "Calculating fitness for each chromosome...\n",
      "Selected 5 Top best chromosomes\n",
      "Finetuning selected models...\n",
      "\n",
      "Generate 5 other chromosomes with Cross-Over and Mutation\n",
      "\n",
      "\n",
      "Generation 2: \n",
      "\n",
      "Calculating fitness for each chromosome...\n",
      "Selected 5 Top best chromosomes\n",
      "Finetuning selected models...\n",
      "\n",
      "Generate 5 other chromosomes with Cross-Over and Mutation\n",
      "\n",
      "Selecting best chromosome as answer...\n",
      "Finished\n"
     ]
    }
   ],
   "source": [
    "shape_list = [784, 20, 10 , 5 , 1]\n",
    "pop_size = 10 \n",
    "generations = 2\n",
    "finetune_epoch = 0\n",
    "finetune_lr = 0.01\n",
    "\n",
    "model = layerwise_genetic_train(shape_list, pop_size, generations, finetune_epoch, finetune_lr)"
   ]
  },
  {
   "cell_type": "code",
   "execution_count": 42,
   "metadata": {},
   "outputs": [
    {
     "data": {
      "text/plain": [
       "OrderedDict([('layers.0.param',\n",
       "              tensor([[ 0.0137,  0.0761,  0.0135,  ..., -0.0536, -0.0801, -0.0638],\n",
       "                      [ 0.0538,  0.0290,  0.0854,  ...,  0.0671,  0.0539,  0.0672],\n",
       "                      [-0.0431,  0.0670, -0.0195,  ..., -0.0513,  0.0081, -0.0265],\n",
       "                      ...,\n",
       "                      [-0.0770, -0.0229, -0.0062,  ..., -0.0327,  0.0650,  0.0297],\n",
       "                      [ 0.0336,  0.0847,  0.0549,  ...,  0.0701,  0.0686,  0.0129],\n",
       "                      [-0.0076, -0.0216,  0.0128,  ..., -0.0231, -0.0602,  0.0794]])),\n",
       "             ('layers.1.param',\n",
       "              tensor([[ 3.8953e-01,  4.3208e-01, -2.1330e-01,  2.5092e-01, -2.6866e-01,\n",
       "                       -1.2396e-01, -2.6251e-01,  1.4670e-01, -4.7284e-02,  2.6237e-01,\n",
       "                       -7.3860e-02,  2.6181e-01, -3.8059e-01,  3.4638e-01,  1.5986e-01,\n",
       "                        2.2921e-01, -1.0531e-01, -9.7630e-02, -6.3520e-02,  1.7616e-01],\n",
       "                      [ 2.4162e-01,  3.3896e-01,  1.2955e-01,  2.5579e-01, -2.7832e-01,\n",
       "                        2.3569e-01,  4.2847e-01, -1.0817e-01, -1.5199e-01, -4.8940e-02,\n",
       "                        2.6357e-01,  8.5491e-02, -9.4958e-03,  9.8267e-02, -1.0802e-01,\n",
       "                        3.7492e-01, -1.1139e-01, -1.7346e-01, -8.5193e-02,  4.2377e-01],\n",
       "                      [ 2.2192e-01, -3.0862e-01, -1.5074e-01,  5.0743e-02,  3.1661e-01,\n",
       "                       -3.2413e-01,  7.0713e-02,  3.5258e-01, -1.3258e-01, -3.0850e-01,\n",
       "                       -4.0079e-01,  1.0263e-01,  2.3774e-01,  2.0998e-02, -8.4949e-02,\n",
       "                        3.2207e-01, -3.8206e-01,  4.3462e-01,  6.7598e-02, -8.6990e-02],\n",
       "                      [ 4.3380e-04,  2.8405e-01, -4.4004e-01, -2.2825e-01, -1.9708e-01,\n",
       "                       -1.2874e-01,  1.0430e-01, -2.7644e-01, -1.2602e-01,  6.2884e-03,\n",
       "                       -3.3977e-01,  4.4389e-01, -3.1201e-01, -5.0443e-02, -2.3212e-01,\n",
       "                       -1.1786e-01, -1.1337e-01, -4.0633e-01,  3.0618e-02, -9.3670e-02],\n",
       "                      [-3.9116e-01,  2.0632e-03,  2.8734e-01,  3.6002e-01, -2.4607e-03,\n",
       "                        3.5907e-01, -9.2476e-02,  4.2301e-01,  1.5236e-01,  3.7319e-01,\n",
       "                        3.6289e-01, -9.7459e-02,  8.0453e-02,  1.5797e-01, -3.5610e-01,\n",
       "                        4.2684e-01, -7.1220e-02, -1.2906e-01, -2.0982e-01, -4.1172e-01],\n",
       "                      [ 4.0901e-01, -3.4954e-02,  2.8301e-01,  2.4077e-01,  2.1493e-01,\n",
       "                        4.4229e-01, -2.2678e-01,  2.9871e-01,  2.2813e-01,  3.0914e-01,\n",
       "                        3.9629e-01,  2.4329e-01, -1.0033e-01, -7.7229e-02, -4.2251e-01,\n",
       "                       -4.1355e-02, -3.4484e-01,  3.0906e-01, -1.1339e-01, -3.6442e-01],\n",
       "                      [-1.6802e-01,  7.8472e-02,  5.3704e-02,  3.3907e-01, -3.1997e-01,\n",
       "                       -5.3976e-02,  2.3036e-03, -2.6462e-01, -4.2505e-01, -3.1119e-01,\n",
       "                        3.5743e-01,  1.6758e-01,  9.9718e-02,  2.0995e-01,  1.5319e-01,\n",
       "                        5.1779e-02, -1.0956e-01,  4.3608e-01,  2.7542e-01, -1.1624e-01],\n",
       "                      [ 1.4009e-01,  7.7461e-02, -1.6574e-02, -2.2710e-01,  4.2490e-01,\n",
       "                        3.8384e-01,  3.7866e-01, -4.2656e-01,  2.1949e-02, -3.1827e-02,\n",
       "                        1.1597e-02,  2.6302e-01, -6.3637e-02, -1.5335e-01,  2.2011e-01,\n",
       "                       -6.8686e-02,  7.4712e-02, -3.5688e-01,  3.9821e-01, -2.3726e-03],\n",
       "                      [ 9.5555e-02,  4.6020e-02,  2.8536e-01, -3.5303e-01, -3.0593e-01,\n",
       "                       -1.8553e-02, -3.8755e-01,  3.7472e-01,  3.3995e-01,  3.8508e-01,\n",
       "                       -2.9461e-01, -3.4043e-02, -2.0183e-01,  2.0644e-01, -3.7972e-02,\n",
       "                        8.1069e-02,  2.2670e-01, -1.5739e-01, -3.1594e-01, -1.5294e-02],\n",
       "                      [-1.0679e-01,  2.6468e-01, -3.7584e-01, -3.0645e-01, -3.1246e-02,\n",
       "                       -3.2337e-01,  4.4012e-01,  2.4511e-01,  4.2811e-01, -2.5461e-02,\n",
       "                       -3.8825e-01, -9.6302e-02, -3.8456e-01,  2.2627e-01,  3.3144e-01,\n",
       "                       -3.7408e-01,  3.6926e-01, -3.1036e-01, -3.8861e-01, -5.8849e-02]])),\n",
       "             ('layers.2.param',\n",
       "              tensor([[ 0.4396,  0.4681, -0.0699, -0.2237,  0.5400,  0.1509, -0.2713, -0.3000,\n",
       "                       -0.3880, -0.3609],\n",
       "                      [-0.3252, -0.3305, -0.0403,  0.3329, -0.4223,  0.5173, -0.4975,  0.4239,\n",
       "                       -0.0202,  0.3835],\n",
       "                      [-0.4987, -0.1563,  0.2889,  0.4155, -0.3234,  0.4173,  0.5666,  0.6315,\n",
       "                       -0.0243, -0.3768],\n",
       "                      [ 0.1686, -0.1307, -0.4079,  0.0606,  0.5405,  0.5797, -0.0799,  0.3345,\n",
       "                       -0.3117,  0.1612],\n",
       "                      [ 0.3558, -0.4805, -0.4266, -0.2799, -0.4694,  0.2297,  0.3510, -0.2616,\n",
       "                        0.0236, -0.2395]])),\n",
       "             ('layers.3.param',\n",
       "              tensor([[ 0.6238,  0.8500, -0.9458, -0.3330, -0.1708]]))])"
      ]
     },
     "execution_count": 42,
     "metadata": {},
     "output_type": "execute_result"
    }
   ],
   "source": [
    "model.state_dict()"
   ]
  },
  {
   "cell_type": "code",
   "execution_count": 43,
   "metadata": {
    "colab": {
     "base_uri": "https://localhost:8080/",
     "height": 513
    },
    "executionInfo": {
     "elapsed": 1179,
     "status": "ok",
     "timestamp": 1668869734087,
     "user": {
      "displayName": "Ghasedak Mohajer",
      "userId": "00662349856745641641"
     },
     "user_tz": -210
    },
    "id": "aw82dI0sM-xE",
    "outputId": "0f80f5c6-9471-4f65-cbcd-afd971d2706c"
   },
   "outputs": [
    {
     "data": {
      "image/png": "[encoded data removed]",
      "text/plain": [
       "<Figure size 432x288 with 1 Axes>"
      ]
     },
     "metadata": {
      "needs_background": "light"
     },
     "output_type": "display_data"
    },
    {
     "data": {
      "image/png": "[encoded data removed]",
      "text/plain": [
       "<Figure size 432x288 with 1 Axes>"
      ]
     },
     "metadata": {
      "needs_background": "light"
     },
     "output_type": "display_data"
    }
   ],
   "source": [
    "data_sample = train_dataset[2][0]\n",
    "plt.imshow(data_sample.squeeze())\n",
    "plt.show()\n",
    "encoded_feats, reconstructed_output = model(data_sample)\n",
    "# reconstructed_output = model(data_sample)\n",
    "plt.imshow(reconstructed_output.detach().numpy().reshape(28,28) )\n",
    "plt.show()"
   ]
  },
  {
   "cell_type": "code",
   "execution_count": 44,
   "metadata": {},
   "outputs": [
    {
     "data": {
      "text/plain": [
       "tensor([[0., 0., 0., 0., 0., 0., 0., 0., 0., 0., 0., 0., 0., 0., 0., 0., 0., 0., 0., 0., 0., 0., 0., 0.,\n",
       "         0., 0., 0., 0., 0., 0., 0., 0., 0., 0., 0., 0., 0., 0., 0., 0., 0., 0., 0., 0., 0., 0., 0., 0.,\n",
       "         0., 0., 0., 0., 0., 0., 0., 0., 0., 0., 0., 0., 0., 0., 0., 0., 0., 0., 0., 0., 0., 0., 0., 0.,\n",
       "         0., 0., 0., 0., 0., 0., 0., 0., 0., 0., 0., 0., 0., 0., 0., 0., 0., 0., 0., 0., 0., 0., 0., 0.,\n",
       "         0., 0., 0., 0., 0., 0., 0., 0., 0., 0., 0., 0., 0., 0., 0., 0., 0., 0., 0., 0., 0., 0., 0., 0.,\n",
       "         0., 0., 0., 0., 0., 0., 0., 0., 0., 0., 0., 0., 0., 0., 0., 0., 0., 0., 0., 0., 0., 0., 0., 0.,\n",
       "         0., 0., 0., 0., 0., 0., 0., 0., 0., 0., 0., 0., 0., 0., 0., 0., 0., 0., 0., 0., 0., 0., 0., 0.,\n",
       "         0., 0., 0., 0., 0., 0., 0., 0., 0., 0., 0., 0., 0., 0., 0., 0., 0., 0., 0., 0., 0., 0., 0., 0.,\n",
       "         0., 0., 0., 0., 0., 0., 0., 0., 0., 0., 0., 0., 0., 0., 0., 0., 0., 0., 0., 0., 0., 0., 0., 0.,\n",
       "         0., 0., 0., 0., 0., 0., 0., 0., 0., 0., 0., 0., 0., 0., 0., 0., 0., 0., 0., 0., 0., 0., 0., 0.,\n",
       "         0., 0., 0., 0., 0., 0., 0., 0., 0., 0., 0., 0., 0., 0., 0., 0., 0., 0., 0., 0., 0., 0., 0., 0.,\n",
       "         0., 0., 0., 0., 0., 0., 0., 0., 0., 0., 0., 0., 0., 0., 0., 0., 0., 0., 0., 0., 0., 0., 0., 0.,\n",
       "         0., 0., 0., 0., 0., 0., 0., 0., 0., 0., 0., 0., 0., 0., 0., 0., 0., 0., 0., 0., 0., 0., 0., 0.,\n",
       "         0., 0., 0., 0., 0., 0., 0., 0., 0., 0., 0., 0., 0., 0., 0., 0., 0., 0., 0., 0., 0., 0., 0., 0.,\n",
       "         0., 0., 0., 0., 0., 0., 0., 0., 0., 0., 0., 0., 0., 0., 0., 0., 0., 0., 0., 0., 0., 0., 0., 0.,\n",
       "         0., 0., 0., 0., 0., 0., 0., 0., 0., 0., 0., 0., 0., 0., 0., 0., 0., 0., 0., 0., 0., 0., 0., 0.,\n",
       "         0., 0., 0., 0., 0., 0., 0., 0., 0., 0., 0., 0., 0., 0., 0., 0., 0., 0., 0., 0., 0., 0., 0., 0.,\n",
       "         0., 0., 0., 0., 0., 0., 0., 0., 0., 0., 0., 0., 0., 0., 0., 0., 0., 0., 0., 0., 0., 0., 0., 0.,\n",
       "         0., 0., 0., 0., 0., 0., 0., 0., 0., 0., 0., 0., 0., 0., 0., 0., 0., 0., 0., 0., 0., 0., 0., 0.,\n",
       "         0., 0., 0., 0., 0., 0., 0., 0., 0., 0., 0., 0., 0., 0., 0., 0., 0., 0., 0., 0., 0., 0., 0., 0.,\n",
       "         0., 0., 0., 0., 0., 0., 0., 0., 0., 0., 0., 0., 0., 0., 0., 0., 0., 0., 0., 0., 0., 0., 0., 0.,\n",
       "         0., 0., 0., 0., 0., 0., 0., 0., 0., 0., 0., 0., 0., 0., 0., 0., 0., 0., 0., 0., 0., 0., 0., 0.,\n",
       "         0., 0., 0., 0., 0., 0., 0., 0., 0., 0., 0., 0., 0., 0., 0., 0., 0., 0., 0., 0., 0., 0., 0., 0.,\n",
       "         0., 0., 0., 0., 0., 0., 0., 0., 0., 0., 0., 0., 0., 0., 0., 0., 0., 0., 0., 0., 0., 0., 0., 0.,\n",
       "         0., 0., 0., 0., 0., 0., 0., 0., 0., 0., 0., 0., 0., 0., 0., 0., 0., 0., 0., 0., 0., 0., 0., 0.,\n",
       "         0., 0., 0., 0., 0., 0., 0., 0., 0., 0., 0., 0., 0., 0., 0., 0., 0., 0., 0., 0., 0., 0., 0., 0.,\n",
       "         0., 0., 0., 0., 0., 0., 0., 0., 0., 0., 0., 0., 0., 0., 0., 0., 0., 0., 0., 0., 0., 0., 0., 0.,\n",
       "         0., 0., 0., 0., 0., 0., 0., 0., 0., 0., 0., 0., 0., 0., 0., 0., 0., 0., 0., 0., 0., 0., 0., 0.,\n",
       "         0., 0., 0., 0., 0., 0., 0., 0., 0., 0., 0., 0., 0., 0., 0., 0., 0., 0., 0., 0., 0., 0., 0., 0.,\n",
       "         0., 0., 0., 0., 0., 0., 0., 0., 0., 0., 0., 0., 0., 0., 0., 0., 0., 0., 0., 0., 0., 0., 0., 0.,\n",
       "         0., 0., 0., 0., 0., 0., 0., 0., 0., 0., 0., 0., 0., 0., 0., 0., 0., 0., 0., 0., 0., 0., 0., 0.,\n",
       "         0., 0., 0., 0., 0., 0., 0., 0., 0., 0., 0., 0., 0., 0., 0., 0., 0., 0., 0., 0., 0., 0., 0., 0.,\n",
       "         0., 0., 0., 0., 0., 0., 0., 0., 0., 0., 0., 0., 0., 0., 0., 0.]],\n",
       "       grad_fn=<MmBackward>)"
      ]
     },
     "execution_count": 44,
     "metadata": {},
     "output_type": "execute_result"
    }
   ],
   "source": [
    "reconstructed_output"
   ]
  },
  {
   "cell_type": "code",
   "execution_count": null,
   "metadata": {},
   "outputs": [],
   "source": []
  }
 ],
 "metadata": {
  "colab": {
   "authorship_tag": "ABX9TyO5sJXR6lRTwdohVK8osUWX",
   "provenance": []
  },
  "kernelspec": {
   "display_name": "Python 3",
   "language": "python",
   "name": "python3"
  },
  "language_info": {
   "codemirror_mode": {
    "name": "ipython",
    "version": 3
   },
   "file_extension": ".py",
   "mimetype": "text/x-python",
   "name": "python",
   "nbconvert_exporter": "python",
   "pygments_lexer": "ipython3",
   "version": "3.6.9"
  }
 },
 "nbformat": 4,
 "nbformat_minor": 1
}
